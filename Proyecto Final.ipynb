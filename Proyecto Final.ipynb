{
 "cells": [
  {
   "cell_type": "markdown",
   "metadata": {},
   "source": [
    "## **Caso: Seguro de Vida**\n",
    "\n",
    "<img src=\"https://www.bbva.com/wp-content/uploads/2017/05/Seguros-vida-BBVA.jpg\" alt=\"drawing\" width=\"500\"/>\n",
    "<br>\n",
    "\n",
    "##### Alumno : Diego Flores Ihuaraqui "
   ]
  },
  {
   "cell_type": "markdown",
   "metadata": {},
   "source": [
    "## Suscripción de clientes al programa de seguro con Regresión Logística\n",
    "El gerente de la empresa desea analizar a sus posibles clientes a través de suscripciones, es decir, desea evaluar si un determinado cliente se suscribirá o no al programa de seguro. Para ello estudia diferentes variables con la intención de identificar cuáles son determinantes para que una persona adquiera o no el seguro."
   ]
  },
  {
   "cell_type": "markdown",
   "metadata": {},
   "source": [
    "Importaremos la librerias a utilizar :"
   ]
  },
  {
   "cell_type": "code",
   "execution_count": 1,
   "metadata": {},
   "outputs": [],
   "source": [
    "import pandas as pd\n",
    "import seaborn as sns\n",
    "import pylab as pl\n",
    "import numpy as np\n",
    "import scipy.optimize as opt\n",
    "from sklearn import preprocessing\n",
    "%matplotlib inline \n",
    "import matplotlib.pyplot as plt"
   ]
  },
  {
   "cell_type": "markdown",
   "metadata": {},
   "source": [
    "<h2 id=\"about_dataset\">Sobre el archivo de datos</h2>\n",
    "\n",
    "Seguro VIDA.SA, es una empresa con más de 30 años en el mercado y con más de 1 millón de clientes en el Perú. Esta empresa nació para satisfacer diversas necesidades de protección, bajo el lema “estamos convencidos de que ya no solo se trata de proteger, se trata de evolucionar, aprendiendo a controlar los riesgos”. Entre los principales seguros que brinda la empresa se encuentra los seguros de vida.\n",
    "\n",
    "\n",
    "Entre las variables a evaluar considera las siguientes:\n",
    "- Seguro: Si la persona cuenta o no con seguro (1 = Sí, 0 = No)\n",
    "- Edad: Edad de la persona ( en años)\n",
    "- Sexo: Sexo de la persona ( 1= Masculino, 0 = Femenino)\n",
    "- Hijos: Número de hijos\n",
    "- Ingresos: Ingresos mensuales (en soles)\n",
    "- Antigüedad: Antigüedad de la persona en su empresa de trabajo (en años)\n",
    "- Automóvil:  Si la persona cuenta con automóvil (1= si tiene, 0= no tiene)\n"
   ]
  },
  {
   "cell_type": "markdown",
   "metadata": {},
   "source": [
    "# ANALISIS EXPLORATORIO\n",
    "\n",
    "La visualización de datos es clave en el análisis de datos y la ciencia, ya que ayuda a detectar sesgos, valores atípicos, etc. Permite visualizar nuestros datos y ver qué podemos obtener de esto.\n",
    "\n",
    "Data: https://raw.githubusercontent.com/Schrodingerdf/Data/main/Vida_data2.txt"
   ]
  },
  {
   "cell_type": "markdown",
   "metadata": {},
   "source": [
    "### Carga de la data "
   ]
  },
  {
   "cell_type": "code",
   "execution_count": 2,
   "metadata": {},
   "outputs": [
    {
     "data": {
      "text/html": [
       "<div>\n",
       "<style scoped>\n",
       "    .dataframe tbody tr th:only-of-type {\n",
       "        vertical-align: middle;\n",
       "    }\n",
       "\n",
       "    .dataframe tbody tr th {\n",
       "        vertical-align: top;\n",
       "    }\n",
       "\n",
       "    .dataframe thead th {\n",
       "        text-align: right;\n",
       "    }\n",
       "</style>\n",
       "<table border=\"1\" class=\"dataframe\">\n",
       "  <thead>\n",
       "    <tr style=\"text-align: right;\">\n",
       "      <th></th>\n",
       "      <th>Persona</th>\n",
       "      <th>Sexo</th>\n",
       "      <th>Edad</th>\n",
       "      <th>Antigüedad</th>\n",
       "      <th>Hijos</th>\n",
       "      <th>Ingresos</th>\n",
       "      <th>Automóvil</th>\n",
       "      <th>Seguro</th>\n",
       "    </tr>\n",
       "  </thead>\n",
       "  <tbody>\n",
       "    <tr>\n",
       "      <th>0</th>\n",
       "      <td>1</td>\n",
       "      <td>1</td>\n",
       "      <td>59</td>\n",
       "      <td>1</td>\n",
       "      <td>3</td>\n",
       "      <td>1821</td>\n",
       "      <td>1</td>\n",
       "      <td>0</td>\n",
       "    </tr>\n",
       "    <tr>\n",
       "      <th>1</th>\n",
       "      <td>2</td>\n",
       "      <td>0</td>\n",
       "      <td>26</td>\n",
       "      <td>5</td>\n",
       "      <td>4</td>\n",
       "      <td>2352</td>\n",
       "      <td>1</td>\n",
       "      <td>1</td>\n",
       "    </tr>\n",
       "    <tr>\n",
       "      <th>2</th>\n",
       "      <td>3</td>\n",
       "      <td>0</td>\n",
       "      <td>54</td>\n",
       "      <td>2</td>\n",
       "      <td>3</td>\n",
       "      <td>1805</td>\n",
       "      <td>1</td>\n",
       "      <td>0</td>\n",
       "    </tr>\n",
       "    <tr>\n",
       "      <th>3</th>\n",
       "      <td>4</td>\n",
       "      <td>1</td>\n",
       "      <td>43</td>\n",
       "      <td>4</td>\n",
       "      <td>3</td>\n",
       "      <td>1351</td>\n",
       "      <td>1</td>\n",
       "      <td>0</td>\n",
       "    </tr>\n",
       "    <tr>\n",
       "      <th>4</th>\n",
       "      <td>5</td>\n",
       "      <td>0</td>\n",
       "      <td>55</td>\n",
       "      <td>3</td>\n",
       "      <td>5</td>\n",
       "      <td>869</td>\n",
       "      <td>1</td>\n",
       "      <td>0</td>\n",
       "    </tr>\n",
       "  </tbody>\n",
       "</table>\n",
       "</div>"
      ],
      "text/plain": [
       "   Persona  Sexo  Edad  Antigüedad  Hijos  Ingresos  Automóvil  Seguro\n",
       "0        1     1    59           1      3      1821          1       0\n",
       "1        2     0    26           5      4      2352          1       1\n",
       "2        3     0    54           2      3      1805          1       0\n",
       "3        4     1    43           4      3      1351          1       0\n",
       "4        5     0    55           3      5       869          1       0"
      ]
     },
     "execution_count": 2,
     "metadata": {},
     "output_type": "execute_result"
    }
   ],
   "source": [
    "url = 'https://raw.githubusercontent.com/Schrodingerdf/Data/main/Vida_data2.txt'\n",
    "vida = pd.read_csv(url,sep='\\t')\n",
    "vida.head()"
   ]
  },
  {
   "cell_type": "markdown",
   "metadata": {},
   "source": [
    "### Estadistica descriptiva"
   ]
  },
  {
   "cell_type": "code",
   "execution_count": 3,
   "metadata": {},
   "outputs": [
    {
     "data": {
      "text/html": [
       "<div>\n",
       "<style scoped>\n",
       "    .dataframe tbody tr th:only-of-type {\n",
       "        vertical-align: middle;\n",
       "    }\n",
       "\n",
       "    .dataframe tbody tr th {\n",
       "        vertical-align: top;\n",
       "    }\n",
       "\n",
       "    .dataframe thead th {\n",
       "        text-align: right;\n",
       "    }\n",
       "</style>\n",
       "<table border=\"1\" class=\"dataframe\">\n",
       "  <thead>\n",
       "    <tr style=\"text-align: right;\">\n",
       "      <th></th>\n",
       "      <th>count</th>\n",
       "      <th>mean</th>\n",
       "      <th>std</th>\n",
       "      <th>min</th>\n",
       "      <th>25%</th>\n",
       "      <th>50%</th>\n",
       "      <th>75%</th>\n",
       "      <th>max</th>\n",
       "    </tr>\n",
       "  </thead>\n",
       "  <tbody>\n",
       "    <tr>\n",
       "      <th>Persona</th>\n",
       "      <td>699.0</td>\n",
       "      <td>350.000000</td>\n",
       "      <td>201.928205</td>\n",
       "      <td>1.0</td>\n",
       "      <td>175.5</td>\n",
       "      <td>350.0</td>\n",
       "      <td>524.5</td>\n",
       "      <td>699.0</td>\n",
       "    </tr>\n",
       "    <tr>\n",
       "      <th>Sexo</th>\n",
       "      <td>699.0</td>\n",
       "      <td>0.470672</td>\n",
       "      <td>0.499497</td>\n",
       "      <td>0.0</td>\n",
       "      <td>0.0</td>\n",
       "      <td>0.0</td>\n",
       "      <td>1.0</td>\n",
       "      <td>1.0</td>\n",
       "    </tr>\n",
       "    <tr>\n",
       "      <th>Edad</th>\n",
       "      <td>699.0</td>\n",
       "      <td>44.175966</td>\n",
       "      <td>11.923548</td>\n",
       "      <td>24.0</td>\n",
       "      <td>34.0</td>\n",
       "      <td>44.0</td>\n",
       "      <td>55.0</td>\n",
       "      <td>64.0</td>\n",
       "    </tr>\n",
       "    <tr>\n",
       "      <th>Antigüedad</th>\n",
       "      <td>699.0</td>\n",
       "      <td>3.519313</td>\n",
       "      <td>1.725624</td>\n",
       "      <td>1.0</td>\n",
       "      <td>2.0</td>\n",
       "      <td>3.0</td>\n",
       "      <td>5.0</td>\n",
       "      <td>6.0</td>\n",
       "    </tr>\n",
       "    <tr>\n",
       "      <th>Hijos</th>\n",
       "      <td>699.0</td>\n",
       "      <td>2.484979</td>\n",
       "      <td>1.675969</td>\n",
       "      <td>0.0</td>\n",
       "      <td>1.0</td>\n",
       "      <td>2.0</td>\n",
       "      <td>4.0</td>\n",
       "      <td>5.0</td>\n",
       "    </tr>\n",
       "    <tr>\n",
       "      <th>Ingresos</th>\n",
       "      <td>699.0</td>\n",
       "      <td>2443.193133</td>\n",
       "      <td>875.476915</td>\n",
       "      <td>867.0</td>\n",
       "      <td>1713.0</td>\n",
       "      <td>2449.0</td>\n",
       "      <td>3196.5</td>\n",
       "      <td>3999.0</td>\n",
       "    </tr>\n",
       "    <tr>\n",
       "      <th>Automóvil</th>\n",
       "      <td>699.0</td>\n",
       "      <td>0.559371</td>\n",
       "      <td>0.496818</td>\n",
       "      <td>0.0</td>\n",
       "      <td>0.0</td>\n",
       "      <td>1.0</td>\n",
       "      <td>1.0</td>\n",
       "      <td>1.0</td>\n",
       "    </tr>\n",
       "    <tr>\n",
       "      <th>Seguro</th>\n",
       "      <td>699.0</td>\n",
       "      <td>0.642346</td>\n",
       "      <td>0.479653</td>\n",
       "      <td>0.0</td>\n",
       "      <td>0.0</td>\n",
       "      <td>1.0</td>\n",
       "      <td>1.0</td>\n",
       "      <td>1.0</td>\n",
       "    </tr>\n",
       "  </tbody>\n",
       "</table>\n",
       "</div>"
      ],
      "text/plain": [
       "            count         mean         std    min     25%     50%     75%  \\\n",
       "Persona     699.0   350.000000  201.928205    1.0   175.5   350.0   524.5   \n",
       "Sexo        699.0     0.470672    0.499497    0.0     0.0     0.0     1.0   \n",
       "Edad        699.0    44.175966   11.923548   24.0    34.0    44.0    55.0   \n",
       "Antigüedad  699.0     3.519313    1.725624    1.0     2.0     3.0     5.0   \n",
       "Hijos       699.0     2.484979    1.675969    0.0     1.0     2.0     4.0   \n",
       "Ingresos    699.0  2443.193133  875.476915  867.0  1713.0  2449.0  3196.5   \n",
       "Automóvil   699.0     0.559371    0.496818    0.0     0.0     1.0     1.0   \n",
       "Seguro      699.0     0.642346    0.479653    0.0     0.0     1.0     1.0   \n",
       "\n",
       "               max  \n",
       "Persona      699.0  \n",
       "Sexo           1.0  \n",
       "Edad          64.0  \n",
       "Antigüedad     6.0  \n",
       "Hijos          5.0  \n",
       "Ingresos    3999.0  \n",
       "Automóvil      1.0  \n",
       "Seguro         1.0  "
      ]
     },
     "execution_count": 3,
     "metadata": {},
     "output_type": "execute_result"
    }
   ],
   "source": [
    "vida.describe().T"
   ]
  },
  {
   "cell_type": "markdown",
   "metadata": {},
   "source": [
    "### Se mostrará los resultados de los gráficos con alta influencia en nuestra variable dependiente."
   ]
  },
  {
   "cell_type": "code",
   "execution_count": 4,
   "metadata": {},
   "outputs": [
    {
     "data": {
      "text/plain": [
       "count    699.000000\n",
       "mean       0.642346\n",
       "std        0.479653\n",
       "min        0.000000\n",
       "25%        0.000000\n",
       "50%        1.000000\n",
       "75%        1.000000\n",
       "max        1.000000\n",
       "Name: Seguro, dtype: float64"
      ]
     },
     "execution_count": 4,
     "metadata": {},
     "output_type": "execute_result"
    }
   ],
   "source": [
    "# Resumen de estadística descriptiva de la variable seguro:\n",
    "vida['Seguro'].describe()"
   ]
  },
  {
   "cell_type": "code",
   "execution_count": 42,
   "metadata": {
    "scrolled": true
   },
   "outputs": [
    {
     "name": "stdout",
     "output_type": "stream",
     "text": [
      "Porcentaje de asegurados :  64.2346208869814\n",
      "Porcentaje de No asegurados :  35.7653791130186\n"
     ]
    },
    {
     "data": {
      "text/plain": [
       "Text(0.5, 1.0, 'Seguro')"
      ]
     },
     "execution_count": 42,
     "metadata": {},
     "output_type": "execute_result"
    },
    {
     "data": {
      "image/png": "[encoded data removed]",
      "text/plain": [
       "<Figure size 432x288 with 1 Axes>"
      ]
     },
     "metadata": {
      "needs_background": "light"
     },
     "output_type": "display_data"
    }
   ],
   "source": [
    "vida['Seguro'] = vida['Seguro'].astype(int) \n",
    "No =len(vida[vida['Seguro']==0])\n",
    "Si=len(vida[vida['Seguro']==1])\n",
    "porcentaje_No=(No/len(vida['Seguro']))*100\n",
    "porcentaje_Si=(Si/len(vida['Seguro']))*100\n",
    "print('Porcentaje de asegurados : ',porcentaje_Si)\n",
    "print('Porcentaje de No asegurados : ',porcentaje_No)\n",
    "vida['Seguro'].value_counts().plot.bar()\n",
    "plt.title('Seguro')"
   ]
  },
  {
   "cell_type": "markdown",
   "metadata": {},
   "source": [
    "Se observa que el 64.23% de los clientes se encuentran asegurados, mientras que el 35.76% no lo estan .\n"
   ]
  },
  {
   "cell_type": "code",
   "execution_count": 43,
   "metadata": {},
   "outputs": [
    {
     "data": {
      "text/html": [
       "<div>\n",
       "<style scoped>\n",
       "    .dataframe tbody tr th:only-of-type {\n",
       "        vertical-align: middle;\n",
       "    }\n",
       "\n",
       "    .dataframe tbody tr th {\n",
       "        vertical-align: top;\n",
       "    }\n",
       "\n",
       "    .dataframe thead th {\n",
       "        text-align: right;\n",
       "    }\n",
       "</style>\n",
       "<table border=\"1\" class=\"dataframe\">\n",
       "  <thead>\n",
       "    <tr style=\"text-align: right;\">\n",
       "      <th>Seguro</th>\n",
       "      <th>0</th>\n",
       "      <th>1</th>\n",
       "    </tr>\n",
       "    <tr>\n",
       "      <th>Sexo</th>\n",
       "      <th></th>\n",
       "      <th></th>\n",
       "    </tr>\n",
       "  </thead>\n",
       "  <tbody>\n",
       "    <tr>\n",
       "      <th>0</th>\n",
       "      <td>143</td>\n",
       "      <td>227</td>\n",
       "    </tr>\n",
       "    <tr>\n",
       "      <th>1</th>\n",
       "      <td>107</td>\n",
       "      <td>222</td>\n",
       "    </tr>\n",
       "  </tbody>\n",
       "</table>\n",
       "</div>"
      ],
      "text/plain": [
       "Seguro    0    1\n",
       "Sexo            \n",
       "0       143  227\n",
       "1       107  222"
      ]
     },
     "execution_count": 43,
     "metadata": {},
     "output_type": "execute_result"
    },
    {
     "data": {
      "image/png": "[encoded data removed]",
      "text/plain": [
       "<Figure size 432x288 with 1 Axes>"
      ]
     },
     "metadata": {
      "needs_background": "light"
     },
     "output_type": "display_data"
    }
   ],
   "source": [
    "pd.crosstab(vida['Sexo'],vida.Seguro).plot(kind ='bar')\n",
    "pd.crosstab(vida['Sexo'],vida.Seguro)"
   ]
  },
  {
   "cell_type": "code",
   "execution_count": 44,
   "metadata": {},
   "outputs": [
    {
     "data": {
      "text/html": [
       "<div>\n",
       "<style scoped>\n",
       "    .dataframe tbody tr th:only-of-type {\n",
       "        vertical-align: middle;\n",
       "    }\n",
       "\n",
       "    .dataframe tbody tr th {\n",
       "        vertical-align: top;\n",
       "    }\n",
       "\n",
       "    .dataframe thead th {\n",
       "        text-align: right;\n",
       "    }\n",
       "</style>\n",
       "<table border=\"1\" class=\"dataframe\">\n",
       "  <thead>\n",
       "    <tr style=\"text-align: right;\">\n",
       "      <th>Seguro</th>\n",
       "      <th>0</th>\n",
       "      <th>1</th>\n",
       "    </tr>\n",
       "    <tr>\n",
       "      <th>Hijos</th>\n",
       "      <th></th>\n",
       "      <th></th>\n",
       "    </tr>\n",
       "  </thead>\n",
       "  <tbody>\n",
       "    <tr>\n",
       "      <th>0</th>\n",
       "      <td>37</td>\n",
       "      <td>73</td>\n",
       "    </tr>\n",
       "    <tr>\n",
       "      <th>1</th>\n",
       "      <td>38</td>\n",
       "      <td>80</td>\n",
       "    </tr>\n",
       "    <tr>\n",
       "      <th>2</th>\n",
       "      <td>47</td>\n",
       "      <td>79</td>\n",
       "    </tr>\n",
       "    <tr>\n",
       "      <th>3</th>\n",
       "      <td>54</td>\n",
       "      <td>72</td>\n",
       "    </tr>\n",
       "    <tr>\n",
       "      <th>4</th>\n",
       "      <td>32</td>\n",
       "      <td>74</td>\n",
       "    </tr>\n",
       "    <tr>\n",
       "      <th>5</th>\n",
       "      <td>42</td>\n",
       "      <td>71</td>\n",
       "    </tr>\n",
       "  </tbody>\n",
       "</table>\n",
       "</div>"
      ],
      "text/plain": [
       "Seguro   0   1\n",
       "Hijos         \n",
       "0       37  73\n",
       "1       38  80\n",
       "2       47  79\n",
       "3       54  72\n",
       "4       32  74\n",
       "5       42  71"
      ]
     },
     "execution_count": 44,
     "metadata": {},
     "output_type": "execute_result"
    },
    {
     "data": {
      "image/png": "[encoded data removed]",
      "text/plain": [
       "<Figure size 432x288 with 1 Axes>"
      ]
     },
     "metadata": {
      "needs_background": "light"
     },
     "output_type": "display_data"
    }
   ],
   "source": [
    "pd.crosstab(vida['Hijos'],vida.Seguro).plot(kind ='bar')\n",
    "pd.crosstab(vida['Hijos'],vida.Seguro)"
   ]
  },
  {
   "cell_type": "markdown",
   "metadata": {},
   "source": [
    "El numero de hijos tambien puede influir en el resultado final de la varaible dependiente,no se puede ver a simple vista si el numero de hijos influira en el modelo."
   ]
  },
  {
   "cell_type": "code",
   "execution_count": 45,
   "metadata": {
    "scrolled": true
   },
   "outputs": [
    {
     "data": {
      "text/html": [
       "<div>\n",
       "<style scoped>\n",
       "    .dataframe tbody tr th:only-of-type {\n",
       "        vertical-align: middle;\n",
       "    }\n",
       "\n",
       "    .dataframe tbody tr th {\n",
       "        vertical-align: top;\n",
       "    }\n",
       "\n",
       "    .dataframe thead th {\n",
       "        text-align: right;\n",
       "    }\n",
       "</style>\n",
       "<table border=\"1\" class=\"dataframe\">\n",
       "  <thead>\n",
       "    <tr style=\"text-align: right;\">\n",
       "      <th>Seguro</th>\n",
       "      <th>0</th>\n",
       "      <th>1</th>\n",
       "    </tr>\n",
       "    <tr>\n",
       "      <th>Automóvil</th>\n",
       "      <th></th>\n",
       "      <th></th>\n",
       "    </tr>\n",
       "  </thead>\n",
       "  <tbody>\n",
       "    <tr>\n",
       "      <th>0</th>\n",
       "      <td>104</td>\n",
       "      <td>204</td>\n",
       "    </tr>\n",
       "    <tr>\n",
       "      <th>1</th>\n",
       "      <td>146</td>\n",
       "      <td>245</td>\n",
       "    </tr>\n",
       "  </tbody>\n",
       "</table>\n",
       "</div>"
      ],
      "text/plain": [
       "Seguro       0    1\n",
       "Automóvil          \n",
       "0          104  204\n",
       "1          146  245"
      ]
     },
     "execution_count": 45,
     "metadata": {},
     "output_type": "execute_result"
    },
    {
     "data": {
      "image/png": "[encoded data removed]",
      "text/plain": [
       "<Figure size 432x288 with 1 Axes>"
      ]
     },
     "metadata": {
      "needs_background": "light"
     },
     "output_type": "display_data"
    }
   ],
   "source": [
    "pd.crosstab(vida['Automóvil'],vida.Seguro).plot(kind ='bar')\n",
    "pd.crosstab(vida['Automóvil'],vida.Seguro)"
   ]
  },
  {
   "cell_type": "markdown",
   "metadata": {},
   "source": [
    "La posesion de un automovil puede influir en el resultado final de la variable dependiente.Se observa que los usuarios con automovil representan el mayor porcentaje de asegurados."
   ]
  },
  {
   "cell_type": "code",
   "execution_count": 33,
   "metadata": {
    "scrolled": true
   },
   "outputs": [
    {
     "data": {
      "text/plain": [
       "<AxesSubplot:xlabel='Ingresos'>"
      ]
     },
     "execution_count": 33,
     "metadata": {},
     "output_type": "execute_result"
    },
    {
     "data": {
      "image/png": "[encoded data removed]",
      "text/plain": [
       "<Figure size 720x432 with 1 Axes>"
      ]
     },
     "metadata": {
      "needs_background": "light"
     },
     "output_type": "display_data"
    }
   ],
   "source": [
    "plt.figure(figsize =(10,6))\n",
    "sns.distplot(a=vida['Ingresos'],kde=False)"
   ]
  },
  {
   "cell_type": "markdown",
   "metadata": {},
   "source": [
    "A partir de la gráfica de distribución anterior sobre nuestra variable independiente 'ingresos', podemos decir que la mayoría de los usuarios tienen ingresos entre 3000 y 3500 soles."
   ]
  },
  {
   "cell_type": "markdown",
   "metadata": {},
   "source": [
    "# CREACION DEL MODELO"
   ]
  },
  {
   "cell_type": "markdown",
   "metadata": {},
   "source": [
    "<h2 id=\"preprocessing\">Pre-procesamiento y selección de la data</h2>"
   ]
  },
  {
   "cell_type": "code",
   "execution_count": 10,
   "metadata": {},
   "outputs": [
    {
     "data": {
      "text/html": [
       "<div>\n",
       "<style scoped>\n",
       "    .dataframe tbody tr th:only-of-type {\n",
       "        vertical-align: middle;\n",
       "    }\n",
       "\n",
       "    .dataframe tbody tr th {\n",
       "        vertical-align: top;\n",
       "    }\n",
       "\n",
       "    .dataframe thead th {\n",
       "        text-align: right;\n",
       "    }\n",
       "</style>\n",
       "<table border=\"1\" class=\"dataframe\">\n",
       "  <thead>\n",
       "    <tr style=\"text-align: right;\">\n",
       "      <th></th>\n",
       "      <th>Sexo</th>\n",
       "      <th>Edad</th>\n",
       "      <th>Antigüedad</th>\n",
       "      <th>Hijos</th>\n",
       "      <th>Ingresos</th>\n",
       "      <th>Automóvil</th>\n",
       "      <th>Seguro</th>\n",
       "    </tr>\n",
       "  </thead>\n",
       "  <tbody>\n",
       "    <tr>\n",
       "      <th>0</th>\n",
       "      <td>1</td>\n",
       "      <td>59</td>\n",
       "      <td>1</td>\n",
       "      <td>3</td>\n",
       "      <td>1821</td>\n",
       "      <td>1</td>\n",
       "      <td>0</td>\n",
       "    </tr>\n",
       "    <tr>\n",
       "      <th>1</th>\n",
       "      <td>0</td>\n",
       "      <td>26</td>\n",
       "      <td>5</td>\n",
       "      <td>4</td>\n",
       "      <td>2352</td>\n",
       "      <td>1</td>\n",
       "      <td>1</td>\n",
       "    </tr>\n",
       "    <tr>\n",
       "      <th>2</th>\n",
       "      <td>0</td>\n",
       "      <td>54</td>\n",
       "      <td>2</td>\n",
       "      <td>3</td>\n",
       "      <td>1805</td>\n",
       "      <td>1</td>\n",
       "      <td>0</td>\n",
       "    </tr>\n",
       "    <tr>\n",
       "      <th>3</th>\n",
       "      <td>1</td>\n",
       "      <td>43</td>\n",
       "      <td>4</td>\n",
       "      <td>3</td>\n",
       "      <td>1351</td>\n",
       "      <td>1</td>\n",
       "      <td>0</td>\n",
       "    </tr>\n",
       "    <tr>\n",
       "      <th>4</th>\n",
       "      <td>0</td>\n",
       "      <td>55</td>\n",
       "      <td>3</td>\n",
       "      <td>5</td>\n",
       "      <td>869</td>\n",
       "      <td>1</td>\n",
       "      <td>0</td>\n",
       "    </tr>\n",
       "  </tbody>\n",
       "</table>\n",
       "</div>"
      ],
      "text/plain": [
       "   Sexo  Edad  Antigüedad  Hijos  Ingresos  Automóvil  Seguro\n",
       "0     1    59           1      3      1821          1       0\n",
       "1     0    26           5      4      2352          1       1\n",
       "2     0    54           2      3      1805          1       0\n",
       "3     1    43           4      3      1351          1       0\n",
       "4     0    55           3      5       869          1       0"
      ]
     },
     "execution_count": 10,
     "metadata": {},
     "output_type": "execute_result"
    }
   ],
   "source": [
    "vida_df=vida[['Sexo','Edad','Antigüedad','Hijos','Ingresos'\t,'Automóvil','Seguro']]\n",
    "vida_df.head()"
   ]
  },
  {
   "cell_type": "code",
   "execution_count": 11,
   "metadata": {},
   "outputs": [
    {
     "data": {
      "text/plain": [
       "(699, 7)"
      ]
     },
     "execution_count": 11,
     "metadata": {},
     "output_type": "execute_result"
    }
   ],
   "source": [
    "vida_df.shape"
   ]
  },
  {
   "cell_type": "markdown",
   "metadata": {},
   "source": [
    "Vamos a definir <b>X</b>, e <b>y</b> para nuestro conjunto de datos:"
   ]
  },
  {
   "cell_type": "code",
   "execution_count": 35,
   "metadata": {},
   "outputs": [
    {
     "data": {
      "text/plain": [
       "array([[   1,   59,    1,    3, 1821,    1],\n",
       "       [   0,   26,    5,    4, 2352,    1],\n",
       "       [   0,   54,    2,    3, 1805,    1],\n",
       "       [   1,   43,    4,    3, 1351,    1],\n",
       "       [   0,   55,    3,    5,  869,    1],\n",
       "       [   1,   56,    2,    4, 1726,    1],\n",
       "       [   1,   41,    4,    4, 2513,    0],\n",
       "       [   0,   35,    1,    3, 1217,    1],\n",
       "       [   1,   53,    6,    1, 1672,    1],\n",
       "       [   0,   52,    1,    1, 3136,    1]], dtype=int64)"
      ]
     },
     "execution_count": 35,
     "metadata": {},
     "output_type": "execute_result"
    }
   ],
   "source": [
    "X = np.asarray(vida_df[['Sexo','Edad','Antigüedad','Hijos','Ingresos','Automóvil']])\n",
    "X[0:10]"
   ]
  },
  {
   "cell_type": "code",
   "execution_count": 13,
   "metadata": {},
   "outputs": [
    {
     "data": {
      "text/plain": [
       "array([0, 1, 0, 0, 0])"
      ]
     },
     "execution_count": 13,
     "metadata": {},
     "output_type": "execute_result"
    }
   ],
   "source": [
    "y = np.asarray(vida_df['Seguro'])\n",
    "y [0:5]"
   ]
  },
  {
   "cell_type": "markdown",
   "metadata": {},
   "source": [
    "Además, nosotros normalizamos el conjunto de datos:"
   ]
  },
  {
   "cell_type": "code",
   "execution_count": 14,
   "metadata": {},
   "outputs": [
    {
     "data": {
      "text/plain": [
       "array([[ 1.06048105,  1.24414725, -1.46098876,  0.30751781, -0.71119942,\n",
       "         0.88753805],\n",
       "       [-0.94296829, -1.52546717,  0.85867312,  0.90461488, -0.10423854,\n",
       "         0.88753805],\n",
       "       [-0.94296829,  0.8245087 , -0.88107329,  0.30751781, -0.72948826,\n",
       "         0.88753805],\n",
       "       [ 1.06048105, -0.0986961 ,  0.27875765,  0.30751781, -1.24843409,\n",
       "         0.88753805],\n",
       "       [-0.94296829,  0.90843641, -0.30115782,  1.50171196, -1.79938539,\n",
       "         0.88753805]])"
      ]
     },
     "execution_count": 14,
     "metadata": {},
     "output_type": "execute_result"
    }
   ],
   "source": [
    "from sklearn import preprocessing\n",
    "X = preprocessing.StandardScaler().fit(X).transform(X)\n",
    "X[0:5]"
   ]
  },
  {
   "cell_type": "markdown",
   "metadata": {},
   "source": [
    "## Conjunto de datos Train/Test"
   ]
  },
  {
   "cell_type": "markdown",
   "metadata": {},
   "source": [
    "Dividimos nuestro conjunto de datos en un conjunto de entrenamiento y de prueba:"
   ]
  },
  {
   "cell_type": "code",
   "execution_count": 15,
   "metadata": {},
   "outputs": [
    {
     "name": "stdout",
     "output_type": "stream",
     "text": [
      "Train set: (559, 6) (559,)\n",
      "Test set: (140, 6) (140,)\n"
     ]
    }
   ],
   "source": [
    "from sklearn.model_selection import train_test_split\n",
    "X_train, X_test, y_train, y_test = train_test_split( X, y, test_size=0.2, random_state=4)\n",
    "print ('Train set:', X_train.shape,  y_train.shape)\n",
    "print ('Test set:', X_test.shape,  y_test.shape)"
   ]
  },
  {
   "cell_type": "markdown",
   "metadata": {},
   "source": [
    "<h2 id=\"modeling\">Modelando (Regresión Logística con Scikit-learn)</h2>\n",
    "Vamos a construir nuestro modelo usando __LogisticRegression__ del paquete Scikit-learn."
   ]
  },
  {
   "cell_type": "code",
   "execution_count": 16,
   "metadata": {},
   "outputs": [
    {
     "data": {
      "text/plain": [
       "LogisticRegression(C=0.01, solver='liblinear')"
      ]
     },
     "execution_count": 16,
     "metadata": {},
     "output_type": "execute_result"
    }
   ],
   "source": [
    "from sklearn.linear_model import LogisticRegression\n",
    "from sklearn.metrics import confusion_matrix\n",
    "LR = LogisticRegression(C=0.01, solver='liblinear').fit(X_train,y_train)\n",
    "LR"
   ]
  },
  {
   "cell_type": "markdown",
   "metadata": {},
   "source": [
    "#### Los coeficientes resultantes del análisis de regresión:"
   ]
  },
  {
   "cell_type": "code",
   "execution_count": 18,
   "metadata": {},
   "outputs": [
    {
     "name": "stdout",
     "output_type": "stream",
     "text": [
      "['Sexo', 'Edad', 'Antigüedad', 'Hijos', 'Ingresos', 'Automóvil']\n"
     ]
    },
    {
     "data": {
      "text/plain": [
       "array([[ 0.03782237, -0.08256713,  0.00330284, -0.00538627,  1.01309235,\n",
       "        -0.030449  ]])"
      ]
     },
     "execution_count": 18,
     "metadata": {},
     "output_type": "execute_result"
    }
   ],
   "source": [
    "print(['Sexo','Edad','Antigüedad','Hijos','Ingresos'\t,'Automóvil'])\n",
    "LR.coef_"
   ]
  },
  {
   "cell_type": "markdown",
   "metadata": {},
   "source": [
    "#### Ahora nosotros podemos predecir con nuestro data de prueba:"
   ]
  },
  {
   "cell_type": "code",
   "execution_count": 19,
   "metadata": {},
   "outputs": [
    {
     "data": {
      "text/plain": [
       "array([1, 0, 1, 1, 1, 0, 0, 1, 1, 1, 1, 0, 0, 1, 0, 1, 1, 1, 1, 1, 0, 1,\n",
       "       0, 1, 0, 0, 1, 1, 1, 0, 1, 1, 1, 1, 1, 0, 1, 1, 1, 1, 0, 1, 1, 1,\n",
       "       0, 1, 0, 1, 1, 0, 0, 1, 1, 0, 1, 1, 1, 1, 1, 1, 0, 1, 1, 1, 1, 1,\n",
       "       1, 0, 1, 0, 1, 0, 0, 1, 0, 1, 0, 0, 1, 1, 1, 0, 1, 1, 0, 0, 1, 0,\n",
       "       1, 1, 0, 1, 0, 1, 1, 1, 1, 0, 0, 0, 0, 1, 0, 1, 0, 0, 0, 1, 1, 0,\n",
       "       1, 1, 0, 0, 1, 1, 0, 0, 1, 0, 1, 0, 0, 0, 0, 1, 1, 1, 0, 0, 1, 0,\n",
       "       0, 1, 0, 1, 0, 1, 1, 1])"
      ]
     },
     "execution_count": 19,
     "metadata": {},
     "output_type": "execute_result"
    }
   ],
   "source": [
    "yhat = LR.predict(X_test)\n",
    "yhat"
   ]
  },
  {
   "cell_type": "markdown",
   "metadata": {},
   "source": [
    "#### La primera columna es la probabilidad de la clase 1, P(Y=1|X), y la segunda columna es la probabilidad de la clase 0, P(Y=0|X):"
   ]
  },
  {
   "cell_type": "code",
   "execution_count": 20,
   "metadata": {},
   "outputs": [
    {
     "data": {
      "text/plain": [
       "array([[0.27509367, 0.72490633],\n",
       "       [0.67949768, 0.32050232],\n",
       "       [0.47209746, 0.52790254],\n",
       "       [0.34278012, 0.65721988],\n",
       "       [0.29564166, 0.70435834],\n",
       "       [0.65215668, 0.34784332],\n",
       "       [0.77358718, 0.22641282],\n",
       "       [0.1313638 , 0.8686362 ],\n",
       "       [0.23767619, 0.76232381],\n",
       "       [0.24613594, 0.75386406],\n",
       "       [0.29390421, 0.70609579],\n",
       "       [0.72942751, 0.27057249],\n",
       "       [0.71297888, 0.28702112],\n",
       "       [0.42405795, 0.57594205],\n",
       "       [0.7665309 , 0.2334691 ],\n",
       "       [0.2020567 , 0.7979433 ],\n",
       "       [0.42854239, 0.57145761],\n",
       "       [0.35579622, 0.64420378],\n",
       "       [0.43921567, 0.56078433],\n",
       "       [0.44986065, 0.55013935],\n",
       "       [0.78203972, 0.21796028],\n",
       "       [0.32937326, 0.67062674],\n",
       "       [0.71419901, 0.28580099],\n",
       "       [0.41228258, 0.58771742],\n",
       "       [0.60778209, 0.39221791],\n",
       "       [0.54435977, 0.45564023],\n",
       "       [0.33573301, 0.66426699],\n",
       "       [0.35757189, 0.64242811],\n",
       "       [0.14847071, 0.85152929],\n",
       "       [0.64749916, 0.35250084],\n",
       "       [0.19256224, 0.80743776],\n",
       "       [0.23958899, 0.76041101],\n",
       "       [0.11594838, 0.88405162],\n",
       "       [0.16303083, 0.83696917],\n",
       "       [0.23627087, 0.76372913],\n",
       "       [0.70785062, 0.29214938],\n",
       "       [0.16016502, 0.83983498],\n",
       "       [0.27310091, 0.72689909],\n",
       "       [0.39718002, 0.60281998],\n",
       "       [0.14908926, 0.85091074],\n",
       "       [0.7949471 , 0.2050529 ],\n",
       "       [0.30566314, 0.69433686],\n",
       "       [0.4965453 , 0.5034547 ],\n",
       "       [0.33294507, 0.66705493],\n",
       "       [0.68998523, 0.31001477],\n",
       "       [0.49846467, 0.50153533],\n",
       "       [0.66435513, 0.33564487],\n",
       "       [0.26640924, 0.73359076],\n",
       "       [0.14169374, 0.85830626],\n",
       "       [0.54990721, 0.45009279],\n",
       "       [0.79294682, 0.20705318],\n",
       "       [0.12768253, 0.87231747],\n",
       "       [0.32513303, 0.67486697],\n",
       "       [0.59511097, 0.40488903],\n",
       "       [0.41364946, 0.58635054],\n",
       "       [0.20599763, 0.79400237],\n",
       "       [0.15737251, 0.84262749],\n",
       "       [0.33285305, 0.66714695],\n",
       "       [0.471627  , 0.528373  ],\n",
       "       [0.12291868, 0.87708132],\n",
       "       [0.66274947, 0.33725053],\n",
       "       [0.386027  , 0.613973  ],\n",
       "       [0.37658509, 0.62341491],\n",
       "       [0.49967668, 0.50032332],\n",
       "       [0.36809992, 0.63190008],\n",
       "       [0.17573814, 0.82426186],\n",
       "       [0.49185385, 0.50814615],\n",
       "       [0.72809344, 0.27190656],\n",
       "       [0.44057882, 0.55942118],\n",
       "       [0.67179596, 0.32820404],\n",
       "       [0.29521073, 0.70478927],\n",
       "       [0.78403071, 0.21596929],\n",
       "       [0.6325444 , 0.3674556 ],\n",
       "       [0.29800386, 0.70199614],\n",
       "       [0.6085364 , 0.3914636 ],\n",
       "       [0.12811217, 0.87188783],\n",
       "       [0.77537623, 0.22462377],\n",
       "       [0.52977515, 0.47022485],\n",
       "       [0.17659789, 0.82340211],\n",
       "       [0.31110276, 0.68889724],\n",
       "       [0.14196762, 0.85803238],\n",
       "       [0.65066725, 0.34933275],\n",
       "       [0.4719058 , 0.5280942 ],\n",
       "       [0.37605755, 0.62394245],\n",
       "       [0.59576823, 0.40423177],\n",
       "       [0.75127763, 0.24872237],\n",
       "       [0.15771502, 0.84228498],\n",
       "       [0.56387816, 0.43612184],\n",
       "       [0.21881198, 0.78118802],\n",
       "       [0.47671353, 0.52328647],\n",
       "       [0.65524679, 0.34475321],\n",
       "       [0.09765677, 0.90234323],\n",
       "       [0.5790992 , 0.4209008 ],\n",
       "       [0.4956992 , 0.5043008 ],\n",
       "       [0.16802081, 0.83197919],\n",
       "       [0.23936824, 0.76063176],\n",
       "       [0.17346335, 0.82653665],\n",
       "       [0.5370732 , 0.4629268 ],\n",
       "       [0.60496796, 0.39503204],\n",
       "       [0.70400149, 0.29599851],\n",
       "       [0.54711013, 0.45288987],\n",
       "       [0.16614377, 0.83385623],\n",
       "       [0.53965357, 0.46034643],\n",
       "       [0.14908874, 0.85091126],\n",
       "       [0.63313585, 0.36686415],\n",
       "       [0.65493981, 0.34506019],\n",
       "       [0.80249971, 0.19750029],\n",
       "       [0.18130081, 0.81869919],\n",
       "       [0.30300353, 0.69699647],\n",
       "       [0.63510393, 0.36489607],\n",
       "       [0.18706782, 0.81293218],\n",
       "       [0.13628691, 0.86371309],\n",
       "       [0.72127416, 0.27872584],\n",
       "       [0.56655716, 0.43344284],\n",
       "       [0.11360338, 0.88639662],\n",
       "       [0.32772889, 0.67227111],\n",
       "       [0.67239994, 0.32760006],\n",
       "       [0.79827554, 0.20172446],\n",
       "       [0.14158657, 0.85841343],\n",
       "       [0.78431408, 0.21568592],\n",
       "       [0.34424629, 0.65575371],\n",
       "       [0.7135526 , 0.2864474 ],\n",
       "       [0.7819944 , 0.2180056 ],\n",
       "       [0.52013711, 0.47986289],\n",
       "       [0.5070457 , 0.4929543 ],\n",
       "       [0.43142889, 0.56857111],\n",
       "       [0.16668964, 0.83331036],\n",
       "       [0.20945496, 0.79054504],\n",
       "       [0.82592347, 0.17407653],\n",
       "       [0.63622502, 0.36377498],\n",
       "       [0.10113191, 0.89886809],\n",
       "       [0.50720808, 0.49279192],\n",
       "       [0.8001515 , 0.1998485 ],\n",
       "       [0.1112683 , 0.8887317 ],\n",
       "       [0.72961328, 0.27038672],\n",
       "       [0.37689916, 0.62310084],\n",
       "       [0.65946203, 0.34053797],\n",
       "       [0.18719599, 0.81280401],\n",
       "       [0.18622915, 0.81377085],\n",
       "       [0.27927843, 0.72072157]])"
      ]
     },
     "execution_count": 20,
     "metadata": {},
     "output_type": "execute_result"
    }
   ],
   "source": [
    "yhat_prob = LR.predict_proba(X_test)\n",
    "yhat_prob"
   ]
  },
  {
   "cell_type": "markdown",
   "metadata": {},
   "source": [
    "<h2 id=\"evaluation\">Evaluación</h2>"
   ]
  },
  {
   "cell_type": "markdown",
   "metadata": {},
   "source": [
    "### Matriz de confusión"
   ]
  },
  {
   "cell_type": "code",
   "execution_count": 21,
   "metadata": {},
   "outputs": [
    {
     "name": "stdout",
     "output_type": "stream",
     "text": [
      "[[83  5]\n",
      " [ 1 51]]\n"
     ]
    }
   ],
   "source": [
    "from sklearn.metrics import classification_report, confusion_matrix\n",
    "import itertools\n",
    "def plot_confusion_matrix(cm, classes,\n",
    "                          normalize=False,\n",
    "                          title='Confusion matrix',\n",
    "                          cmap=plt.cm.Blues):\n",
    "    \"\"\"\n",
    "    This function prints and plots the confusion matrix.\n",
    "    Normalization can be applied by setting `normalize=True`.\n",
    "    \"\"\"\n",
    "    if normalize:\n",
    "        cm = cm.astype('float') / cm.sum(axis=1)[:, np.newaxis]\n",
    "        print(\"Normalized confusion matrix\")\n",
    "    else:\n",
    "        print('Confusion matrix, without normalization')\n",
    "\n",
    "    print(cm)\n",
    "\n",
    "    plt.imshow(cm, interpolation='nearest', cmap=cmap)\n",
    "    plt.title(title)\n",
    "    plt.colorbar()\n",
    "    tick_marks = np.arange(len(classes))\n",
    "    plt.xticks(tick_marks, classes, rotation=45)\n",
    "    plt.yticks(tick_marks, classes)\n",
    "\n",
    "    fmt = '.2f' if normalize else 'd'\n",
    "    thresh = cm.max() / 2.\n",
    "    for i, j in itertools.product(range(cm.shape[0]), range(cm.shape[1])):\n",
    "        plt.text(j, i, format(cm[i, j], fmt),\n",
    "                 horizontalalignment=\"center\",\n",
    "                 color=\"white\" if cm[i, j] > thresh else \"black\")\n",
    "\n",
    "    plt.tight_layout()\n",
    "    plt.ylabel('True label')\n",
    "    plt.xlabel('Predicted label')\n",
    "print(confusion_matrix(y_test, yhat, labels=[1,0]))"
   ]
  },
  {
   "cell_type": "code",
   "execution_count": 22,
   "metadata": {},
   "outputs": [
    {
     "name": "stdout",
     "output_type": "stream",
     "text": [
      "Confusion matrix, without normalization\n",
      "[[83  5]\n",
      " [ 1 51]]\n"
     ]
    },
    {
     "data": {
      "image/png": "[encoded data removed]",
      "text/plain": [
       "<Figure size 432x288 with 2 Axes>"
      ]
     },
     "metadata": {
      "needs_background": "light"
     },
     "output_type": "display_data"
    }
   ],
   "source": [
    "# Compute confusion matrix\n",
    "cnf_matrix = confusion_matrix(y_test, yhat, labels=[1,0])\n",
    "np.set_printoptions(precision=2)\n",
    "\n",
    "\n",
    "# Plot non-normalized confusion matrix\n",
    "plt.figure()\n",
    "plot_confusion_matrix(cnf_matrix, classes=['Seguro=1','Seguro=0'],normalize= False,  title='Confusion matrix')"
   ]
  },
  {
   "cell_type": "markdown",
   "metadata": {},
   "source": [
    "La primera fila es para clientes que cuentan con el seguro en el conjunto de prueba es 1.\n",
    "Como podemos calcular, de 140 clientes, el valor del seguro  de 88 de ellos es 1.\n",
    "Y de estos 88, el clasificador predijo correctamente 83 de ellos como 1 y 5 de ellos como 0.\n",
    "\n",
    "Significa que, para 83 clientes, el valor de Seguro  real era 1 en el conjunto de prueba, y el clasificador también predijo correctamente esos como 1. Sin embargo, mientras que la etiqueta real de 5 clientes era 1, el clasificador predijo aquellos como 0, lo que no es muy bueno. Podemos considerarlo como un error del modelo para la primera fila.\n",
    "\n",
    "¿Qué pasa con los clientes con valor 0 de seguro? Veamos la segunda fila.\n",
    "Parece que había 52 clientes cuyo valor de seguro era 0.\n",
    "\n",
    "\n",
    "El clasificador pronosticó correctamente 51 de ellos como 0, y uno de ellos erróneamente como 1. Por lo tanto, ha hecho un buen trabajo al predecir a los clientes con un valor 0 de seguro. "
   ]
  },
  {
   "cell_type": "code",
   "execution_count": 23,
   "metadata": {},
   "outputs": [
    {
     "name": "stdout",
     "output_type": "stream",
     "text": [
      "              precision    recall  f1-score   support\n",
      "\n",
      "           0       0.91      0.98      0.94        52\n",
      "           1       0.99      0.94      0.97        88\n",
      "\n",
      "    accuracy                           0.96       140\n",
      "   macro avg       0.95      0.96      0.95       140\n",
      "weighted avg       0.96      0.96      0.96       140\n",
      "\n"
     ]
    }
   ],
   "source": [
    "print (classification_report(y_test, yhat))"
   ]
  },
  {
   "cell_type": "markdown",
   "metadata": {},
   "source": [
    "Podemos decir que la precisión promedio para este clasificador es el promedio del puntaje F1 para ambas etiquetas, que es 0,96 en nuestro caso."
   ]
  },
  {
   "cell_type": "code",
   "execution_count": 24,
   "metadata": {},
   "outputs": [
    {
     "name": "stdout",
     "output_type": "stream",
     "text": [
      "Accuracy Score:  0.9571428571428572\n",
      "Confusion Matrix:\n",
      "  [[51  1]\n",
      " [ 5 83]]\n",
      "Precision Score:  0.9880952380952381\n",
      "Recall Score:  0.9431818181818182\n",
      "F1 Score:  0.9651162790697674\n"
     ]
    }
   ],
   "source": [
    "from sklearn import metrics\n",
    "print(\"Accuracy Score: \", metrics.accuracy_score(y_test, yhat))\n",
    "print(\"Confusion Matrix:\\n \", metrics.confusion_matrix(y_test, yhat))\n",
    "print(\"Precision Score: \", metrics.precision_score(y_test, yhat))\n",
    "print(\"Recall Score: \", metrics.recall_score(y_test, yhat))\n",
    "print(\"F1 Score: \", metrics.f1_score(y_test, yhat))"
   ]
  },
  {
   "cell_type": "markdown",
   "metadata": {},
   "source": [
    "### Log loss"
   ]
  },
  {
   "cell_type": "code",
   "execution_count": 25,
   "metadata": {},
   "outputs": [
    {
     "data": {
      "text/plain": [
       "0.37291509472750456"
      ]
     },
     "execution_count": 25,
     "metadata": {},
     "output_type": "execute_result"
    }
   ],
   "source": [
    "from sklearn.metrics import log_loss\n",
    "log_loss(y_test, yhat_prob)"
   ]
  },
  {
   "cell_type": "markdown",
   "metadata": {},
   "source": [
    "### AUC (curva ROC)"
   ]
  },
  {
   "cell_type": "code",
   "execution_count": 26,
   "metadata": {},
   "outputs": [
    {
     "data": {
      "text/plain": [
       "array([1, 0, 1, 1, 1, 0, 0, 1, 1, 1, 1, 0, 0, 1, 0, 1, 1, 1, 1, 1, 0, 1,\n",
       "       0, 1, 0, 0, 1, 1, 1, 0, 1, 1, 1, 1, 1, 0, 1, 1, 1, 1, 0, 1, 1, 1,\n",
       "       0, 1, 0, 1, 1, 0, 0, 1, 1, 0, 1, 1, 1, 1, 1, 1, 0, 1, 1, 1, 1, 1,\n",
       "       1, 0, 1, 0, 1, 0, 0, 1, 0, 1, 0, 0, 1, 1, 1, 0, 1, 1, 0, 0, 1, 0,\n",
       "       1, 1, 0, 1, 0, 1, 1, 1, 1, 0, 0, 0, 0, 1, 0, 1, 0, 0, 0, 1, 1, 0,\n",
       "       1, 1, 0, 0, 1, 1, 0, 0, 1, 0, 1, 0, 0, 0, 0, 1, 1, 1, 0, 0, 1, 0,\n",
       "       0, 1, 0, 1, 0, 1, 1, 1])"
      ]
     },
     "execution_count": 26,
     "metadata": {},
     "output_type": "execute_result"
    }
   ],
   "source": [
    "yhat"
   ]
  },
  {
   "cell_type": "code",
   "execution_count": 27,
   "metadata": {},
   "outputs": [
    {
     "data": {
      "text/plain": [
       "0.9619755244755245"
      ]
     },
     "execution_count": 27,
     "metadata": {},
     "output_type": "execute_result"
    }
   ],
   "source": [
    "from sklearn.metrics import roc_curve, auc\n",
    "fpr, tpr, threshold = roc_curve(y_test, yhat)\n",
    "auc(fpr, tpr)"
   ]
  },
  {
   "cell_type": "markdown",
   "metadata": {},
   "source": [
    "Se observa que el modelo tiene un rendimiento muy bueno para predecir si el cliente se suscribira a un seguro o no."
   ]
  },
  {
   "cell_type": "markdown",
   "metadata": {},
   "source": [
    "### Ejecutando con varios optimizadores y reguladores"
   ]
  },
  {
   "cell_type": "code",
   "execution_count": 28,
   "metadata": {},
   "outputs": [
    {
     "name": "stdout",
     "output_type": "stream",
     "text": [
      "Solver=newton-cg, C=0.01->Accuracy: 0.9428571428571428->Log Loss : 0.35561800211093686->AUC : 0.9230769230769231\n",
      "Solver=newton-cg, C=0.02->Accuracy: 0.9642857142857143->Log Loss : 0.2853478956311908->AUC : 0.951923076923077\n",
      "Solver=newton-cg, C=0.05->Accuracy: 0.9785714285714285->Log Loss : 0.2112422321500553->AUC : 0.9750874125874127\n",
      "Solver=newton-cg, C=0.1->Accuracy: 0.9857142857142858->Log Loss : 0.1681753880383122->AUC : 0.9847027972027972\n",
      "Solver=lbfgs, C=0.01->Accuracy: 0.9428571428571428->Log Loss : 0.3556180004176138->AUC : 0.9230769230769231\n",
      "Solver=lbfgs, C=0.02->Accuracy: 0.9642857142857143->Log Loss : 0.28534790595646414->AUC : 0.951923076923077\n",
      "Solver=lbfgs, C=0.05->Accuracy: 0.9785714285714285->Log Loss : 0.2112424816961377->AUC : 0.9750874125874127\n",
      "Solver=lbfgs, C=0.1->Accuracy: 0.9857142857142858->Log Loss : 0.16817537875494373->AUC : 0.9847027972027972\n",
      "Solver=liblinear, C=0.01->Accuracy: 0.9571428571428572->Log Loss : 0.37291509472750456->AUC : 0.9619755244755245\n",
      "Solver=liblinear, C=0.02->Accuracy: 0.9571428571428572->Log Loss : 0.30111870108388794->AUC : 0.9619755244755245\n",
      "Solver=liblinear, C=0.05->Accuracy: 0.9714285714285714->Log Loss : 0.22481050583141693->AUC : 0.9733391608391607\n",
      "Solver=liblinear, C=0.1->Accuracy: 0.9714285714285714->Log Loss : 0.17990090811213388->AUC : 0.9733391608391607\n",
      "Solver=sag, C=0.01->Accuracy: 0.9428571428571428->Log Loss : 0.355618004488757->AUC : 0.9230769230769231\n",
      "Solver=sag, C=0.02->Accuracy: 0.9642857142857143->Log Loss : 0.28535380187171194->AUC : 0.951923076923077\n",
      "Solver=sag, C=0.05->Accuracy: 0.9785714285714285->Log Loss : 0.21124096748188237->AUC : 0.9750874125874127\n",
      "Solver=sag, C=0.1->Accuracy: 0.9857142857142858->Log Loss : 0.1681780441108979->AUC : 0.9847027972027972\n",
      "Solver=saga, C=0.01->Accuracy: 0.9428571428571428->Log Loss : 0.3556174010959226->AUC : 0.9230769230769231\n",
      "Solver=saga, C=0.02->Accuracy: 0.9642857142857143->Log Loss : 0.28534970356711936->AUC : 0.951923076923077\n",
      "Solver=saga, C=0.05->Accuracy: 0.9785714285714285->Log Loss : 0.21123610741232496->AUC : 0.9750874125874127\n",
      "Solver=saga, C=0.1->Accuracy: 0.9857142857142858->Log Loss : 0.16816944644154758->AUC : 0.9847027972027972\n"
     ]
    }
   ],
   "source": [
    "solvers=['newton-cg', 'lbfgs', 'liblinear', 'sag', 'saga']\n",
    "Cs=[0.01,0.02,0.05,0.1]\n",
    "\n",
    "for s in solvers:\n",
    "    for c in Cs:\n",
    "        LR = LogisticRegression(C=c, solver=s).fit(X_train,y_train)\n",
    "        yhat = LR.predict(X_test)\n",
    "        yhat_prob = LR.predict_proba(X_test)\n",
    "        log_loss(y_test, yhat_prob)\n",
    "        fpr, tpr, threshold = roc_curve(y_test, yhat)\n",
    "        print(\"Solver=\"+s+\", C=\"+str(c)+\n",
    "              \"->Accuracy: \"+str(metrics.accuracy_score(y_test, yhat)) + \n",
    "             \"->Log Loss : \"+str(log_loss(y_test, yhat_prob)) +\n",
    "             \"->AUC : \"+str(auc(fpr, tpr)))"
   ]
  }
 ],
 "metadata": {
  "kernelspec": {
   "display_name": "Python 3",
   "language": "python",
   "name": "python3"
  },
  "language_info": {
   "codemirror_mode": {
    "name": "ipython",
    "version": 3
   },
   "file_extension": ".py",
   "mimetype": "text/x-python",
   "name": "python",
   "nbconvert_exporter": "python",
   "pygments_lexer": "ipython3",
   "version": "3.8.5"
  }
 },
 "nbformat": 4,
 "nbformat_minor": 4
}
